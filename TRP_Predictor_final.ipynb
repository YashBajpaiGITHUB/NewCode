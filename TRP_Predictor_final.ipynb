{
  "nbformat": 4,
  "nbformat_minor": 0,
  "metadata": {
    "colab": {
      "provenance": [],
      "mount_file_id": "1F2N0SYND7lD17sNhYUr18j2viVcqRAMo",
      "authorship_tag": "ABX9TyMwHQejwtT517E2dZB0lwKL",
      "include_colab_link": true
    },
    "kernelspec": {
      "name": "python3",
      "display_name": "Python 3"
    },
    "language_info": {
      "name": "python"
    }
  },
  "cells": [
    {
      "cell_type": "markdown",
      "metadata": {
        "id": "view-in-github",
        "colab_type": "text"
      },
      "source": [
        "<a href=\"https://colab.research.google.com/github/YashBajpaiGITHUB/NewCode/blob/main/TRP_Predictor_final.ipynb\" target=\"_parent\"><img src=\"https://colab.research.google.com/assets/colab-badge.svg\" alt=\"Open In Colab\"/></a>"
      ]
    },
    {
      "cell_type": "markdown",
      "source": [
        "TRP Predictor"
      ],
      "metadata": {
        "id": "lKGaOZHqziZp"
      }
    },
    {
      "cell_type": "code",
      "source": [
        "import numpy as np\n",
        "import pandas as pd\n",
        "from sklearn.feature_extraction.text import CountVectorizer\n",
        "from sklearn.ensemble import RandomForestRegressor"
      ],
      "metadata": {
        "id": "nIhoXttrzURt"
      },
      "execution_count": null,
      "outputs": []
    },
    {
      "cell_type": "markdown",
      "source": [
        "**Load your dataset1 and dataset2**"
      ],
      "metadata": {
        "id": "ygL8jDtOzpV0"
      }
    },
    {
      "cell_type": "code",
      "source": [
        "dataset1 = pd.read_excel('/content/TVshow.xlsx')\n",
        "dataset2 = pd.read_excel('/content/TV3.xlsx')"
      ],
      "metadata": {
        "id": "1GyiWVL8ze--"
      },
      "execution_count": null,
      "outputs": []
    },
    {
      "cell_type": "code",
      "source": [
        "combined_data = pd.concat([dataset1, dataset2], ignore_index=True)"
      ],
      "metadata": {
        "id": "rG9o_P8Az4Uu"
      },
      "execution_count": null,
      "outputs": []
    },
    {
      "cell_type": "code",
      "source": [
        "import  re\n",
        "import nltk\n",
        "nltk.download('stopwords')\n",
        "from nltk.corpus import stopwords\n",
        "from nltk.stem.porter import PorterStemmer\n",
        "corpus=[]\n",
        "for i in range(len(combined_data)):\n",
        "  review= re.sub('[^a-zA-Z]',' ',combined_data['Reviews'][i])\n",
        "  review=review.lower()\n",
        "  review=review.split()\n",
        "  ps= PorterStemmer()\n",
        "  review=[ps.stem(word) for word in review if not word in set(stopwords.words('english'))]\n",
        "  review=' '.join(review)\n",
        "  corpus.append(review)\n",
        "  print(corpus)\n",
        "\n",
        "cv = CountVectorizer()\n",
        "X_reviews= cv.fit_transform(corpus).toarray()"
      ],
      "metadata": {
        "colab": {
          "base_uri": "https://localhost:8080/"
        },
        "id": "XTtkA4Udz5Vv",
        "outputId": "638befe2-8605-43ba-f701-b329ef07e8a3"
      },
      "execution_count": null,
      "outputs": [
        {
          "output_type": "stream",
          "name": "stdout",
          "text": [
            "['decent show famili bond valu']\n",
            "['decent show famili bond valu', 'inspir well dramat high rate sinc three year']\n",
            "['decent show famili bond valu', 'inspir well dramat high rate sinc three year', 'longest run indian show']\n",
            "['decent show famili bond valu', 'inspir well dramat high rate sinc three year', 'longest run indian show', 'love indian show revolv around stori mother']\n",
            "['decent show famili bond valu', 'inspir well dramat high rate sinc three year', 'longest run indian show', 'love indian show revolv around stori mother', 'unnecessari drama make show bore']\n",
            "['decent show famili bond valu', 'inspir well dramat high rate sinc three year', 'longest run indian show', 'love indian show revolv around stori mother', 'unnecessari drama make show bore', 'love realiti show celebr face fear']\n",
            "['decent show famili bond valu', 'inspir well dramat high rate sinc three year', 'longest run indian show', 'love indian show revolv around stori mother', 'unnecessari drama make show bore', 'love realiti show celebr face fear', 'sci fi show love audienc']\n",
            "['decent show famili bond valu', 'inspir well dramat high rate sinc three year', 'longest run indian show', 'love indian show revolv around stori mother', 'unnecessari drama make show bore', 'love realiti show celebr face fear', 'sci fi show love audienc', 'repitit stori make show bore']\n",
            "['decent show famili bond valu', 'inspir well dramat high rate sinc three year', 'longest run indian show', 'love indian show revolv around stori mother', 'unnecessari drama make show bore', 'love realiti show celebr face fear', 'sci fi show love audienc', 'repitit stori make show bore', 'popular show base lord shiv']\n",
            "['decent show famili bond valu', 'inspir well dramat high rate sinc three year', 'longest run indian show', 'love indian show revolv around stori mother', 'unnecessari drama make show bore', 'love realiti show celebr face fear', 'sci fi show love audienc', 'repitit stori make show bore', 'popular show base lord shiv', 'never end stori seem bore']\n",
            "['decent show famili bond valu', 'inspir well dramat high rate sinc three year', 'longest run indian show', 'love indian show revolv around stori mother', 'unnecessari drama make show bore', 'love realiti show celebr face fear', 'sci fi show love audienc', 'repitit stori make show bore', 'popular show base lord shiv', 'never end stori seem bore', 'wife fight right']\n",
            "['decent show famili bond valu', 'inspir well dramat high rate sinc three year', 'longest run indian show', 'love indian show revolv around stori mother', 'unnecessari drama make show bore', 'love realiti show celebr face fear', 'sci fi show love audienc', 'repitit stori make show bore', 'popular show base lord shiv', 'never end stori seem bore', 'wife fight right', 'one longest run show']\n",
            "['decent show famili bond valu', 'inspir well dramat high rate sinc three year', 'longest run indian show', 'love indian show revolv around stori mother', 'unnecessari drama make show bore', 'love realiti show celebr face fear', 'sci fi show love audienc', 'repitit stori make show bore', 'popular show base lord shiv', 'never end stori seem bore', 'wife fight right', 'one longest run show', 'dramat']\n",
            "['decent show famili bond valu', 'inspir well dramat high rate sinc three year', 'longest run indian show', 'love indian show revolv around stori mother', 'unnecessari drama make show bore', 'love realiti show celebr face fear', 'sci fi show love audienc', 'repitit stori make show bore', 'popular show base lord shiv', 'never end stori seem bore', 'wife fight right', 'one longest run show', 'dramat', 'popular comedi']\n",
            "['decent show famili bond valu', 'inspir well dramat high rate sinc three year', 'longest run indian show', 'love indian show revolv around stori mother', 'unnecessari drama make show bore', 'love realiti show celebr face fear', 'sci fi show love audienc', 'repitit stori make show bore', 'popular show base lord shiv', 'never end stori seem bore', 'wife fight right', 'one longest run show', 'dramat', 'popular comedi', 'highli dramat']\n",
            "['decent show famili bond valu', 'inspir well dramat high rate sinc three year', 'longest run indian show', 'love indian show revolv around stori mother', 'unnecessari drama make show bore', 'love realiti show celebr face fear', 'sci fi show love audienc', 'repitit stori make show bore', 'popular show base lord shiv', 'never end stori seem bore', 'wife fight right', 'one longest run show', 'dramat', 'popular comedi', 'highli dramat', 'everyday tale indian famili']\n",
            "['decent show famili bond valu', 'inspir well dramat high rate sinc three year', 'longest run indian show', 'love indian show revolv around stori mother', 'unnecessari drama make show bore', 'love realiti show celebr face fear', 'sci fi show love audienc', 'repitit stori make show bore', 'popular show base lord shiv', 'never end stori seem bore', 'wife fight right', 'one longest run show', 'dramat', 'popular comedi', 'highli dramat', 'everyday tale indian famili', 'show showcas romanc histori']\n",
            "['decent show famili bond valu', 'inspir well dramat high rate sinc three year', 'longest run indian show', 'love indian show revolv around stori mother', 'unnecessari drama make show bore', 'love realiti show celebr face fear', 'sci fi show love audienc', 'repitit stori make show bore', 'popular show base lord shiv', 'never end stori seem bore', 'wife fight right', 'one longest run show', 'dramat', 'popular comedi', 'highli dramat', 'everyday tale indian famili', 'show showcas romanc histori', 'inspir stori lost plot late']\n",
            "['decent show famili bond valu', 'inspir well dramat high rate sinc three year', 'longest run indian show', 'love indian show revolv around stori mother', 'unnecessari drama make show bore', 'love realiti show celebr face fear', 'sci fi show love audienc', 'repitit stori make show bore', 'popular show base lord shiv', 'never end stori seem bore', 'wife fight right', 'one longest run show', 'dramat', 'popular comedi', 'highli dramat', 'everyday tale indian famili', 'show showcas romanc histori', 'inspir stori lost plot late', 'danc base show']\n",
            "['decent show famili bond valu', 'inspir well dramat high rate sinc three year', 'longest run indian show', 'love indian show revolv around stori mother', 'unnecessari drama make show bore', 'love realiti show celebr face fear', 'sci fi show love audienc', 'repitit stori make show bore', 'popular show base lord shiv', 'never end stori seem bore', 'wife fight right', 'one longest run show', 'dramat', 'popular comedi', 'highli dramat', 'everyday tale indian famili', 'show showcas romanc histori', 'inspir stori lost plot late', 'danc base show', 'popular comedi show']\n",
            "['decent show famili bond valu', 'inspir well dramat high rate sinc three year', 'longest run indian show', 'love indian show revolv around stori mother', 'unnecessari drama make show bore', 'love realiti show celebr face fear', 'sci fi show love audienc', 'repitit stori make show bore', 'popular show base lord shiv', 'never end stori seem bore', 'wife fight right', 'one longest run show', 'dramat', 'popular comedi', 'highli dramat', 'everyday tale indian famili', 'show showcas romanc histori', 'inspir stori lost plot late', 'danc base show', 'popular comedi show', 'inspir thriller show decent cast']\n",
            "['decent show famili bond valu', 'inspir well dramat high rate sinc three year', 'longest run indian show', 'love indian show revolv around stori mother', 'unnecessari drama make show bore', 'love realiti show celebr face fear', 'sci fi show love audienc', 'repitit stori make show bore', 'popular show base lord shiv', 'never end stori seem bore', 'wife fight right', 'one longest run show', 'dramat', 'popular comedi', 'highli dramat', 'everyday tale indian famili', 'show showcas romanc histori', 'inspir stori lost plot late', 'danc base show', 'popular comedi show', 'inspir thriller show decent cast', 'popular show lot twist']\n",
            "['decent show famili bond valu', 'inspir well dramat high rate sinc three year', 'longest run indian show', 'love indian show revolv around stori mother', 'unnecessari drama make show bore', 'love realiti show celebr face fear', 'sci fi show love audienc', 'repitit stori make show bore', 'popular show base lord shiv', 'never end stori seem bore', 'wife fight right', 'one longest run show', 'dramat', 'popular comedi', 'highli dramat', 'everyday tale indian famili', 'show showcas romanc histori', 'inspir stori lost plot late', 'danc base show', 'popular comedi show', 'inspir thriller show decent cast', 'popular show lot twist', 'fairi tale stori']\n",
            "['decent show famili bond valu', 'inspir well dramat high rate sinc three year', 'longest run indian show', 'love indian show revolv around stori mother', 'unnecessari drama make show bore', 'love realiti show celebr face fear', 'sci fi show love audienc', 'repitit stori make show bore', 'popular show base lord shiv', 'never end stori seem bore', 'wife fight right', 'one longest run show', 'dramat', 'popular comedi', 'highli dramat', 'everyday tale indian famili', 'show showcas romanc histori', 'inspir stori lost plot late', 'danc base show', 'popular comedi show', 'inspir thriller show decent cast', 'popular show lot twist', 'fairi tale stori', 'stori lot twist turn cring stori']\n",
            "['decent show famili bond valu', 'inspir well dramat high rate sinc three year', 'longest run indian show', 'love indian show revolv around stori mother', 'unnecessari drama make show bore', 'love realiti show celebr face fear', 'sci fi show love audienc', 'repitit stori make show bore', 'popular show base lord shiv', 'never end stori seem bore', 'wife fight right', 'one longest run show', 'dramat', 'popular comedi', 'highli dramat', 'everyday tale indian famili', 'show showcas romanc histori', 'inspir stori lost plot late', 'danc base show', 'popular comedi show', 'inspir thriller show decent cast', 'popular show lot twist', 'fairi tale stori', 'stori lot twist turn cring stori', 'stori lot twist turn cring stori']\n",
            "['decent show famili bond valu', 'inspir well dramat high rate sinc three year', 'longest run indian show', 'love indian show revolv around stori mother', 'unnecessari drama make show bore', 'love realiti show celebr face fear', 'sci fi show love audienc', 'repitit stori make show bore', 'popular show base lord shiv', 'never end stori seem bore', 'wife fight right', 'one longest run show', 'dramat', 'popular comedi', 'highli dramat', 'everyday tale indian famili', 'show showcas romanc histori', 'inspir stori lost plot late', 'danc base show', 'popular comedi show', 'inspir thriller show decent cast', 'popular show lot twist', 'fairi tale stori', 'stori lot twist turn cring stori', 'stori lot twist turn cring stori', 'new stori famili drama peopl love']\n",
            "['decent show famili bond valu', 'inspir well dramat high rate sinc three year', 'longest run indian show', 'love indian show revolv around stori mother', 'unnecessari drama make show bore', 'love realiti show celebr face fear', 'sci fi show love audienc', 'repitit stori make show bore', 'popular show base lord shiv', 'never end stori seem bore', 'wife fight right', 'one longest run show', 'dramat', 'popular comedi', 'highli dramat', 'everyday tale indian famili', 'show showcas romanc histori', 'inspir stori lost plot late', 'danc base show', 'popular comedi show', 'inspir thriller show decent cast', 'popular show lot twist', 'fairi tale stori', 'stori lot twist turn cring stori', 'stori lot twist turn cring stori', 'new stori famili drama peopl love', 'new show overdrama']\n",
            "['decent show famili bond valu', 'inspir well dramat high rate sinc three year', 'longest run indian show', 'love indian show revolv around stori mother', 'unnecessari drama make show bore', 'love realiti show celebr face fear', 'sci fi show love audienc', 'repitit stori make show bore', 'popular show base lord shiv', 'never end stori seem bore', 'wife fight right', 'one longest run show', 'dramat', 'popular comedi', 'highli dramat', 'everyday tale indian famili', 'show showcas romanc histori', 'inspir stori lost plot late', 'danc base show', 'popular comedi show', 'inspir thriller show decent cast', 'popular show lot twist', 'fairi tale stori', 'stori lot twist turn cring stori', 'stori lot twist turn cring stori', 'new stori famili drama peopl love', 'new show overdrama', 'girl want fulfil dream cricket']\n",
            "['decent show famili bond valu', 'inspir well dramat high rate sinc three year', 'longest run indian show', 'love indian show revolv around stori mother', 'unnecessari drama make show bore', 'love realiti show celebr face fear', 'sci fi show love audienc', 'repitit stori make show bore', 'popular show base lord shiv', 'never end stori seem bore', 'wife fight right', 'one longest run show', 'dramat', 'popular comedi', 'highli dramat', 'everyday tale indian famili', 'show showcas romanc histori', 'inspir stori lost plot late', 'danc base show', 'popular comedi show', 'inspir thriller show decent cast', 'popular show lot twist', 'fairi tale stori', 'stori lot twist turn cring stori', 'stori lot twist turn cring stori', 'new stori famili drama peopl love', 'new show overdrama', 'girl want fulfil dream cricket', 'nice stori woman empower']\n"
          ]
        },
        {
          "output_type": "stream",
          "name": "stderr",
          "text": [
            "[nltk_data] Downloading package stopwords to /root/nltk_data...\n",
            "[nltk_data]   Package stopwords is already up-to-date!\n"
          ]
        }
      ]
    },
    {
      "cell_type": "code",
      "source": [
        "numerical_features = combined_data[['DUR', 'RCH', 'TS']].values"
      ],
      "metadata": {
        "id": "49orS7Lf0JMu"
      },
      "execution_count": null,
      "outputs": []
    },
    {
      "cell_type": "code",
      "source": [
        "categorical_columns = ['Genre', 'Channel', 'Time-slot']"
      ],
      "metadata": {
        "id": "8q1M2ubR0PqO"
      },
      "execution_count": null,
      "outputs": []
    },
    {
      "cell_type": "code",
      "source": [
        "X = np.concatenate(( X_reviews,numerical_features, X_categorical), axis=1)"
      ],
      "metadata": {
        "id": "5pHYtJLp0aBw"
      },
      "execution_count": null,
      "outputs": []
    },
    {
      "cell_type": "code",
      "source": [
        "X_dataset1 = X[:len(dataset1)]\n",
        "X_dataset2 = X[len(dataset1):]"
      ],
      "metadata": {
        "id": "XkH8NEcd0eOE"
      },
      "execution_count": null,
      "outputs": []
    },
    {
      "cell_type": "code",
      "source": [
        "y_dataset1 = dataset1['Last Week TRP']\n",
        "model = LinearRegression()\n",
        "model.fit(X_dataset1, y_dataset1)"
      ],
      "metadata": {
        "colab": {
          "base_uri": "https://localhost:8080/",
          "height": 75
        },
        "id": "Hrf2q3Yg0mCB",
        "outputId": "2e348f93-8f83-4429-a04a-3cb0681239da"
      },
      "execution_count": null,
      "outputs": [
        {
          "output_type": "execute_result",
          "data": {
            "text/plain": [
              "LinearRegression()"
            ],
            "text/html": [
              "<style>#sk-container-id-15 {color: black;background-color: white;}#sk-container-id-15 pre{padding: 0;}#sk-container-id-15 div.sk-toggleable {background-color: white;}#sk-container-id-15 label.sk-toggleable__label {cursor: pointer;display: block;width: 100%;margin-bottom: 0;padding: 0.3em;box-sizing: border-box;text-align: center;}#sk-container-id-15 label.sk-toggleable__label-arrow:before {content: \"▸\";float: left;margin-right: 0.25em;color: #696969;}#sk-container-id-15 label.sk-toggleable__label-arrow:hover:before {color: black;}#sk-container-id-15 div.sk-estimator:hover label.sk-toggleable__label-arrow:before {color: black;}#sk-container-id-15 div.sk-toggleable__content {max-height: 0;max-width: 0;overflow: hidden;text-align: left;background-color: #f0f8ff;}#sk-container-id-15 div.sk-toggleable__content pre {margin: 0.2em;color: black;border-radius: 0.25em;background-color: #f0f8ff;}#sk-container-id-15 input.sk-toggleable__control:checked~div.sk-toggleable__content {max-height: 200px;max-width: 100%;overflow: auto;}#sk-container-id-15 input.sk-toggleable__control:checked~label.sk-toggleable__label-arrow:before {content: \"▾\";}#sk-container-id-15 div.sk-estimator input.sk-toggleable__control:checked~label.sk-toggleable__label {background-color: #d4ebff;}#sk-container-id-15 div.sk-label input.sk-toggleable__control:checked~label.sk-toggleable__label {background-color: #d4ebff;}#sk-container-id-15 input.sk-hidden--visually {border: 0;clip: rect(1px 1px 1px 1px);clip: rect(1px, 1px, 1px, 1px);height: 1px;margin: -1px;overflow: hidden;padding: 0;position: absolute;width: 1px;}#sk-container-id-15 div.sk-estimator {font-family: monospace;background-color: #f0f8ff;border: 1px dotted black;border-radius: 0.25em;box-sizing: border-box;margin-bottom: 0.5em;}#sk-container-id-15 div.sk-estimator:hover {background-color: #d4ebff;}#sk-container-id-15 div.sk-parallel-item::after {content: \"\";width: 100%;border-bottom: 1px solid gray;flex-grow: 1;}#sk-container-id-15 div.sk-label:hover label.sk-toggleable__label {background-color: #d4ebff;}#sk-container-id-15 div.sk-serial::before {content: \"\";position: absolute;border-left: 1px solid gray;box-sizing: border-box;top: 0;bottom: 0;left: 50%;z-index: 0;}#sk-container-id-15 div.sk-serial {display: flex;flex-direction: column;align-items: center;background-color: white;padding-right: 0.2em;padding-left: 0.2em;position: relative;}#sk-container-id-15 div.sk-item {position: relative;z-index: 1;}#sk-container-id-15 div.sk-parallel {display: flex;align-items: stretch;justify-content: center;background-color: white;position: relative;}#sk-container-id-15 div.sk-item::before, #sk-container-id-15 div.sk-parallel-item::before {content: \"\";position: absolute;border-left: 1px solid gray;box-sizing: border-box;top: 0;bottom: 0;left: 50%;z-index: -1;}#sk-container-id-15 div.sk-parallel-item {display: flex;flex-direction: column;z-index: 1;position: relative;background-color: white;}#sk-container-id-15 div.sk-parallel-item:first-child::after {align-self: flex-end;width: 50%;}#sk-container-id-15 div.sk-parallel-item:last-child::after {align-self: flex-start;width: 50%;}#sk-container-id-15 div.sk-parallel-item:only-child::after {width: 0;}#sk-container-id-15 div.sk-dashed-wrapped {border: 1px dashed gray;margin: 0 0.4em 0.5em 0.4em;box-sizing: border-box;padding-bottom: 0.4em;background-color: white;}#sk-container-id-15 div.sk-label label {font-family: monospace;font-weight: bold;display: inline-block;line-height: 1.2em;}#sk-container-id-15 div.sk-label-container {text-align: center;}#sk-container-id-15 div.sk-container {/* jupyter's `normalize.less` sets `[hidden] { display: none; }` but bootstrap.min.css set `[hidden] { display: none !important; }` so we also need the `!important` here to be able to override the default hidden behavior on the sphinx rendered scikit-learn.org. See: https://github.com/scikit-learn/scikit-learn/issues/21755 */display: inline-block !important;position: relative;}#sk-container-id-15 div.sk-text-repr-fallback {display: none;}</style><div id=\"sk-container-id-15\" class=\"sk-top-container\"><div class=\"sk-text-repr-fallback\"><pre>LinearRegression()</pre><b>In a Jupyter environment, please rerun this cell to show the HTML representation or trust the notebook. <br />On GitHub, the HTML representation is unable to render, please try loading this page with nbviewer.org.</b></div><div class=\"sk-container\" hidden><div class=\"sk-item\"><div class=\"sk-estimator sk-toggleable\"><input class=\"sk-toggleable__control sk-hidden--visually\" id=\"sk-estimator-id-15\" type=\"checkbox\" checked><label for=\"sk-estimator-id-15\" class=\"sk-toggleable__label sk-toggleable__label-arrow\">LinearRegression</label><div class=\"sk-toggleable__content\"><pre>LinearRegression()</pre></div></div></div></div></div>"
            ]
          },
          "metadata": {},
          "execution_count": 198
        }
      ]
    },
    {
      "cell_type": "code",
      "source": [
        "predicted_trps_dataset2 = model.predict(X_dataset2)\n"
      ],
      "metadata": {
        "id": "5TdU33j50phg"
      },
      "execution_count": null,
      "outputs": []
    },
    {
      "cell_type": "code",
      "source": [
        "dataset2['Last Week TRP'] = predicted_trps_dataset2\n",
        "print(dataset2)\n"
      ],
      "metadata": {
        "colab": {
          "base_uri": "https://localhost:8080/"
        },
        "id": "UH5E-QHj0vHT",
        "outputId": "958fe31d-dae0-45e5-8e43-8d24379eb327"
      },
      "execution_count": null,
      "outputs": [
        {
          "output_type": "stream",
          "name": "stdout",
          "text": [
            "         Name    Channel    Genre Time-slot  \\\n",
            "0          BL     ZEE TV    Drama  08:30:00   \n",
            "1     BEKABOO     Colors  Fantasy  08:00:00   \n",
            "2  Udaariyaan     Colors    Drama  07:00:00   \n",
            "3         YHC  Star Plus    Drama  10:30:00   \n",
            "4         TMD  Star Plus    Drama  07:00:00   \n",
            "5          SS     ZEE TV    Drama  07:30:00   \n",
            "6       FALTU  Star Plus    Drama  09:00:00   \n",
            "7      Pushpa        SAB   Social  09:30:00   \n",
            "\n",
            "                                             Reviews  DUR  RCH  TS  \\\n",
            "0                    Popular show with lot of twists   33  2.8  18   \n",
            "1                                   Fairy tale story   63  2.4  21   \n",
            "2  Story with a lot of twists and turns. Cringe s...   30  2.2  17   \n",
            "3  Story with a lot of twists and turns. Cringe s...   30  4.0  16   \n",
            "4       New story with family drama. People love it.   30  2.4  17   \n",
            "5                            New show with overdrama   38  2.0  17   \n",
            "6  Girl want to fulfill her dream of being a cric...   30  3.4  18   \n",
            "7                   Nice story for woman empowerment   30  1.7  18   \n",
            "\n",
            "   Last Week TRP  \n",
            "0       1.590287  \n",
            "1       0.579439  \n",
            "2       1.385285  \n",
            "3       2.135478  \n",
            "4       1.553615  \n",
            "5       0.874383  \n",
            "6       1.953677  \n",
            "7       1.173261  \n"
          ]
        }
      ]
    }
  ]
}